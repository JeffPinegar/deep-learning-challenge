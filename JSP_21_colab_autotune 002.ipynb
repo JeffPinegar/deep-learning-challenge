{
 "cells": [
  {
   "attachments": {},
   "cell_type": "markdown",
   "metadata": {},
   "source": [
    "# Jeff Pinegar\n",
    "jeffPinegar1@gmail.com <br>\n",
    "717-982-0516<br>\n",
    "## Challenge 21 - Deep learning - Nonprofit Foundation Alphabet Soup <br>\n",
    "\n",
    "Due: March 6, 2023<br>\n",
    "\n",
    "---\n",
    "<u>**Summary:**</u><br>\n",
    "This code was designed to run on Google Colab, starting with the data that was saved from \"JSP DeepLearningChallenge_008.ipynb\". The data had minimum of cleaning and the AMT_ASK has Logarithmic scaling.\n",
    "\n",
    "\n",
    "<u>**Auto Tune:**</u><br>\n",
    "* The problme with Auto tune in Google Colab was that the process would exceed the time limits.  Therefore I never got results from Colab.\n",
    "\n",
    "---"
   ]
  },
  {
   "cell_type": "code",
   "execution_count": null,
   "metadata": {},
   "outputs": [],
   "source": [
    "!pip install -q -U keras-tuner\n",
    "\n",
    "# Import our dependencies\n",
    "from sklearn.model_selection import train_test_split\n",
    "from sklearn.preprocessing import StandardScaler\n",
    "import pandas as pd\n",
    "import tensorflow as tf\n",
    "import seaborn as sns\n",
    "import matplotlib.pyplot as plt\n",
    "# from google.colab import files\n",
    "import io"
   ]
  },
  {
   "cell_type": "code",
   "execution_count": null,
   "metadata": {},
   "outputs": [],
   "source": [
    "\n",
    "# Load the final that has already been and standardized\n",
    "# this file still has dependent and independent variable and has not been split.\n",
    "uploaded = files.upload()  # clean_data_reduced_stand_dummies.csv"
   ]
  },
  {
   "attachments": {},
   "cell_type": "markdown",
   "metadata": {},
   "source": [
    "---\n",
    "## Preprocess the Data (Step 1)\n",
    "\n",
    "Using your knowledge of Pandas and scikit-learn’s `StandardScaler()`, you’ll need to preprocess the dataset. This step prepares you for Step 2, where you'll compile, train, and evaluate the neural network model.\n",
    "\n",
    "Using the information we have provided in the starter code, follow the instructions to complete the preprocessing steps.\n",
    "\n",
    "1. Read in the charity_data.csv to a Pandas DataFrame, and be sure to identify the following in your dataset:\n",
    "    * What variable(s) are the target(s) for your model?\n",
    "    * What variable(s) are the feature(s) for your model? <br><br>\n",
    "    \n",
    "\n",
    "2. Drop the `EIN` and `NAME` columns.\n",
    "\n",
    "3. Determine the number of unique values for each column.\n",
    "\n",
    "4. For columns that have more than 10 unique values, determine the number of data points for each unique value.\n",
    "\n",
    "5. Use the number of data points for each unique value to pick a cutoff point to bin \"rare\" categorical variables together in a new value, `Other`, and then check if the binning was successful.\n",
    "\n",
    "6. Use `pd.get_dummies()` to encode categorical variables."
   ]
  },
  {
   "cell_type": "code",
   "execution_count": null,
   "metadata": {},
   "outputs": [],
   "source": [
    "X_dummies = pd.read_csv(io.BytesIO(uploaded['clean_data_reduced_log_dummies.csv']))\n",
    "# Dataset is now stored in a Pandas Dataframe\n",
    "\n",
    "# reduce the data set by 50% to avoid overfitting.\n",
    "X_dummies = X_dummies.sample(frac=0.5, replace=True, random_state=1)\n",
    "\n",
    "#  Import and read the charity_data.csv.\n",
    "# application_df = pd.read_csv(\"./Resources/charity_data_BigAsk.csv\")\n",
    "X_dummies.head()"
   ]
  },
  {
   "cell_type": "code",
   "execution_count": null,
   "metadata": {},
   "outputs": [],
   "source": [
    "# Seperate out the dependent and independen variables\n",
    "# Split our preprocessed data into our features and target arrays\n",
    "\n",
    "# this is the target\n",
    "y = X_dummies[\"IS_SUCCESSFUL\"].values\n",
    "\n",
    "# Drop y out of the dataframe to get the independent variables\n",
    "# this is the feature list\n",
    "X = X_dummies.drop(\"IS_SUCCESSFUL\", axis=1)\n",
    "independent_variables = X.columns\n",
    "X.head()"
   ]
  },
  {
   "attachments": {},
   "cell_type": "markdown",
   "metadata": {},
   "source": [
    "---\n",
    "# Start after here\n",
    "\n",
    "X.to_csv('clean_data_reduced_stand.csv', index=False, header=True)\n",
    "\n",
    "---"
   ]
  },
  {
   "cell_type": "code",
   "execution_count": 31,
   "metadata": {},
   "outputs": [],
   "source": [
    "# Split the preprocessed data into a training and testing dataset\n",
    "# Split the data into X_train, X_test, y_train, y_test\n",
    "X_train, X_test, y_train, y_test = train_test_split(X, y, random_state=42)"
   ]
  },
  {
   "cell_type": "code",
   "execution_count": 32,
   "metadata": {},
   "outputs": [],
   "source": [
    "\n",
    "# I am doing this so that the rest of the code written for scaled data will run.\n",
    "X_train_scaled = X_train\n",
    "X_test_scaled = X_test"
   ]
  },
  {
   "attachments": {},
   "cell_type": "markdown",
   "metadata": {},
   "source": [
    "---\n",
    "## Compile, Train and Evaluate the Model (Step 2)\n",
    "Using your knowledge of TensorFlow, you’ll design a neural network, or deep learning model, to create a binary classification model that can predict if an Alphabet Soup–funded organization will be successful based on the features in the dataset. You’ll need to think about how many inputs there are before determining the number of neurons and layers in your model. Once you’ve completed that step, you’ll compile, train, and evaluate your binary classification model to calculate the model’s loss and accuracy.\n",
    "\n",
    "1. Continue using the Jupyter Notebook in which you performed the preprocessing steps from Step 1.\n",
    "\n",
    "2. Create a neural network model by assigning the number of input features and nodes for each layer using TensorFlow and Keras.\n",
    "\n",
    "3. Create the first hidden layer and choose an appropriate activation function.\n",
    "\n",
    "4. If necessary, add a second hidden layer with an appropriate activation function.\n",
    "\n",
    "5. Create an output layer with an appropriate activation function.\n",
    "\n",
    "6. Check the structure of the model.\n",
    "\n",
    "7. Compile and train the model.\n",
    "\n",
    "8. Create a callback that saves the model's weights every five epochs.\n",
    "\n",
    "9. Evaluate the model using the test data to determine the loss and accuracy.\n",
    "\n",
    "10. Save and export your results to an HDF5 file. Name the file `AlphabetSoupCharity.h5`."
   ]
  },
  {
   "attachments": {},
   "cell_type": "markdown",
   "metadata": {},
   "source": [
    "---\n",
    "# Start Auto Tune\n",
    "---"
   ]
  },
  {
   "cell_type": "code",
   "execution_count": null,
   "metadata": {},
   "outputs": [],
   "source": [
    "\n",
    "# Create a method that creates a new Sequential model with hyperparameter options\n",
    "def create_model(hp):\n",
    "    nn_model = tf.keras.models.Sequential()\n",
    "\n",
    "    # Allow kerastuner to decide which activation function to use in hidden layers\n",
    "    activation = hp.Choice('activation',['relu','sigmoid'])\n",
    "    \n",
    "    # Allow kerastuner to decide number of neurons in first layer\n",
    "    nn_model.add(tf.keras.layers.Dense(units=hp.Int('first_units',\n",
    "        min_value=75,\n",
    "        max_value=105,\n",
    "        step=2), activation=activation, input_dim=34))\n",
    "\n",
    "    # Allow kerastuner to decide number of hidden layers and neurons in hidden layers\n",
    "    for i in range(hp.Int('num_layers', 1, 4)):\n",
    "        nn_model.add(tf.keras.layers.Dense(units=hp.Int('units_' + str(i),\n",
    "            min_value=5,\n",
    "            max_value=15,\n",
    "            step=2),\n",
    "            activation=activation))\n",
    "    \n",
    "    nn_model.add(tf.keras.layers.Dense(units=1, activation=\"sigmoid\"))\n",
    "\n",
    "    # Compile the model\n",
    "    nn_model.compile(loss=\"binary_crossentropy\", optimizer='adam', metrics=[\"accuracy\"])\n",
    "    \n",
    "    return nn_model"
   ]
  },
  {
   "cell_type": "code",
   "execution_count": null,
   "metadata": {},
   "outputs": [],
   "source": [
    "# Import the kerastuner library\n",
    "import keras_tuner as kt\n",
    "\n",
    "tuner = kt.Hyperband(\n",
    "    create_model,\n",
    "    objective=\"val_accuracy\",\n",
    "    max_epochs=40,\n",
    "    hyperband_iterations=2)"
   ]
  },
  {
   "cell_type": "code",
   "execution_count": null,
   "metadata": {},
   "outputs": [],
   "source": [
    "# Run the kerastuner search for best hyperparameters\n",
    "tuner.search(X_train_scaled,y_train,epochs=20,validation_data=(X_test_scaled,y_test))"
   ]
  },
  {
   "cell_type": "code",
   "execution_count": null,
   "metadata": {},
   "outputs": [],
   "source": [
    "# Get top 3 model hyperparameters and print the values\n",
    "top_hyper = tuner.get_best_hyperparameters(3)\n",
    "for param in top_hyper:\n",
    "    print(param.values)"
   ]
  },
  {
   "cell_type": "code",
   "execution_count": null,
   "metadata": {},
   "outputs": [],
   "source": [
    "# Get second best model hyperparameters\n",
    "second_hyper = tuner.get_best_hyperparameters(2)[1]\n",
    "second_hyper.values"
   ]
  },
  {
   "cell_type": "code",
   "execution_count": null,
   "metadata": {},
   "outputs": [],
   "source": [
    "# Compare the performance to the second-best model\n",
    "second_model = tuner.get_best_models(2)[1]\n",
    "model_loss, model_accuracy = second_model.evaluate(X_test_scaled,y_test,verbose=2)\n",
    "print(f\"Loss: {model_loss}, Accuracy: {model_accuracy}\")"
   ]
  },
  {
   "cell_type": "code",
   "execution_count": null,
   "metadata": {},
   "outputs": [],
   "source": [
    "# Evaluate the top 3 models against the test dataset\n",
    "top_model = tuner.get_best_models(3)\n",
    "for model in top_model:\n",
    "    model_loss, model_accuracy = model.evaluate(X_test_scaled,y_test,verbose=2)\n",
    "    print(f\"Loss: {model_loss}, Accuracy: {model_accuracy}\")"
   ]
  },
  {
   "cell_type": "code",
   "execution_count": null,
   "metadata": {},
   "outputs": [],
   "source": [
    "# Export our model to HDF5 file\n",
    "#  YOUR CODE GOES HERE\n",
    "nn.save_weights('Model_with_75234_weights.hdf5')\n",
    "\n",
    "# Save the entire model to a HDF5 file.\n",
    "# The '.h5' extension indicates that the model should be saved to HDF5.\n",
    "nn.save('Model_with_75234.h5')"
   ]
  }
 ],
 "metadata": {
  "kernelspec": {
   "display_name": "base",
   "language": "python",
   "name": "python3"
  },
  "language_info": {
   "codemirror_mode": {
    "name": "ipython",
    "version": 3
   },
   "file_extension": ".py",
   "mimetype": "text/x-python",
   "name": "python",
   "nbconvert_exporter": "python",
   "pygments_lexer": "ipython3",
   "version": "3.9.15"
  },
  "vscode": {
   "interpreter": {
    "hash": "e7f336f9bec1e74624fa1ea8a759f275624ff514e02e1aa8e3e0a6d78d32a22a"
   }
  }
 },
 "nbformat": 4,
 "nbformat_minor": 4
}
